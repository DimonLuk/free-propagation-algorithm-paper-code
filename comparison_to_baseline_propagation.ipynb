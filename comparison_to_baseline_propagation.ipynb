{
 "cells": [
  {
   "cell_type": "code",
   "execution_count": 1,
   "metadata": {},
   "outputs": [],
   "source": [
    "import tensorflow as tf\n",
    "from typing import Callable\n",
    "import numpy as np\n",
    "from free_propagation_model import FreePropModel"
   ]
  },
  {
   "cell_type": "markdown",
   "metadata": {},
   "source": [
    "# Data initialization"
   ]
  },
  {
   "cell_type": "markdown",
   "metadata": {},
   "source": [
    "These values for inputs are used to test outputs of baseline and free propagation."
   ]
  },
  {
   "cell_type": "code",
   "execution_count": 2,
   "metadata": {},
   "outputs": [],
   "source": [
    "data = tf.constant(\n",
    "    [\n",
    "        [1, 1, 1],\n",
    "        [2, 2, 2],\n",
    "        [3, 3, 3],\n",
    "        [4, 4, 4],\n",
    "        [5, 5, 5],\n",
    "        [1.28, 1.29, 1.3],\n",
    "        [3, 2, 1],\n",
    "        [8.28282, 8.3, 4.1],\n",
    "        [0, 0, 0],\n",
    "        [32, 10000, 12323232]\n",
    "    ],\n",
    "    dtype=\"float32\"\n",
    ")"
   ]
  },
  {
   "cell_type": "markdown",
   "metadata": {},
   "source": [
    "# Case 1"
   ]
  },
  {
   "cell_type": "markdown",
   "metadata": {},
   "source": [
    "Neural network with only input and output layers and with identity as the activation function"
   ]
  },
  {
   "cell_type": "code",
   "execution_count": 3,
   "metadata": {},
   "outputs": [],
   "source": [
    "baseline_model = tf.keras.models.Sequential([\n",
    "    tf.keras.layers.Dense(3, activation=tf.identity),\n",
    "])\n",
    "baseline_model.build(input_shape=data.shape)\n",
    "baseline_model.set_weights([\n",
    "    np.array([[2, 2, 2], [2, 2, 2], [2, 2, 2]], dtype=\"float32\"),\n",
    "    np.array([0, 0, 0], dtype=\"float32\"),\n",
    "])"
   ]
  },
  {
   "cell_type": "code",
   "execution_count": 4,
   "metadata": {},
   "outputs": [],
   "source": [
    "with tf.GradientTape() as tape:\n",
    "    baseline_result = baseline_model(data)\n",
    "    baseline_gradient = tape.gradient(baseline_result, baseline_model.trainable_variables)"
   ]
  },
  {
   "cell_type": "code",
   "execution_count": 5,
   "metadata": {},
   "outputs": [],
   "source": [
    "weights = tf.SparseTensor(\n",
    "    indices=[\n",
    "        *[[i, j] for i in range(0, 3) for j in range(3, 6)],\n",
    "    ],\n",
    "    values=tf.constant([2] * 9, dtype=\"float32\"),\n",
    "    dense_shape=(6, 6),\n",
    ")\n",
    "weights = tf.Variable(tf.transpose(tf.sparse.to_dense(weights)))\n",
    "free_prop_model = FreePropModel(\n",
    "    3,\n",
    "    3,\n",
    "    weights,\n",
    "    1,\n",
    "    tf.identity,\n",
    "    tf.identity,\n",
    "    tf.identity,\n",
    ")"
   ]
  },
  {
   "cell_type": "code",
   "execution_count": 6,
   "metadata": {},
   "outputs": [],
   "source": [
    "with tf.GradientTape() as tape:\n",
    "    free_prop_result = free_prop_model.fit(data)\n",
    "    free_prop_gradient = tape.gradient(free_prop_result, free_prop_model.weights)"
   ]
  },
  {
   "cell_type": "code",
   "execution_count": 7,
   "metadata": {},
   "outputs": [
    {
     "data": {
      "text/plain": [
       "<tf.Tensor: shape=(10, 3), dtype=bool, numpy=\n",
       "array([[ True,  True,  True],\n",
       "       [ True,  True,  True],\n",
       "       [ True,  True,  True],\n",
       "       [ True,  True,  True],\n",
       "       [ True,  True,  True],\n",
       "       [ True,  True,  True],\n",
       "       [ True,  True,  True],\n",
       "       [ True,  True,  True],\n",
       "       [ True,  True,  True],\n",
       "       [ True,  True,  True]])>"
      ]
     },
     "execution_count": 7,
     "metadata": {},
     "output_type": "execute_result"
    }
   ],
   "source": [
    "baseline_result == free_prop_result"
   ]
  },
  {
   "cell_type": "code",
   "execution_count": 8,
   "metadata": {},
   "outputs": [
    {
     "data": {
      "text/plain": [
       "<tf.Tensor: shape=(3, 3), dtype=bool, numpy=\n",
       "array([[ True,  True,  True],\n",
       "       [ True,  True,  True],\n",
       "       [ True,  True,  True]])>"
      ]
     },
     "execution_count": 8,
     "metadata": {},
     "output_type": "execute_result"
    }
   ],
   "source": [
    "baseline_gradient[0] == tf.transpose(free_prop_gradient)[:3, 3:]"
   ]
  },
  {
   "cell_type": "markdown",
   "metadata": {},
   "source": [
    "# Case 2"
   ]
  },
  {
   "cell_type": "markdown",
   "metadata": {},
   "source": [
    "Neural network with one hidden layer and sigmoid activation functions"
   ]
  },
  {
   "cell_type": "code",
   "execution_count": 9,
   "metadata": {},
   "outputs": [],
   "source": [
    "baseline_model = tf.keras.models.Sequential([\n",
    "    tf.keras.layers.Dense(3, activation=tf.sigmoid),\n",
    "    tf.keras.layers.Dense(3, activation=tf.sigmoid),\n",
    "])\n",
    "baseline_model.build(input_shape=data.shape)\n",
    "baseline_model.set_weights([\n",
    "    np.array([[2, 2, 2], [2, 2, 2], [2, 2, 2]], dtype=\"float32\"),\n",
    "    np.array([0, 0, 0], dtype=\"float32\"),\n",
    "    np.array([[2, 2, 2], [2, 2, 2], [2, 2, 2]], dtype=\"float32\"),\n",
    "    np.array([0, 0, 0], dtype=\"float32\"),\n",
    "])"
   ]
  },
  {
   "cell_type": "code",
   "execution_count": 10,
   "metadata": {},
   "outputs": [],
   "source": [
    "with tf.GradientTape() as tape:\n",
    "    baseline_result = baseline_model(data)\n",
    "    baseline_gradient = tape.gradient(baseline_result, baseline_model.trainable_variables)"
   ]
  },
  {
   "cell_type": "code",
   "execution_count": 11,
   "metadata": {},
   "outputs": [],
   "source": [
    "weights = tf.SparseTensor(\n",
    "    indices=[\n",
    "        *[[i, j] for i in range(3) for j in range(6, 9)],\n",
    "        *[[i, j] for i in range(6, 9) for j in range(3,6)]\n",
    "    ],\n",
    "    values=tf.Variable([2] * 18, dtype=\"float32\"),\n",
    "    dense_shape=(9, 9),\n",
    ")\n",
    "weights = tf.Variable(tf.transpose(tf.sparse.to_dense(weights)))\n",
    "free_prop_model = FreePropModel(\n",
    "    3,\n",
    "    3,\n",
    "    weights,\n",
    "    2,\n",
    "    tf.identity,\n",
    "    tf.sigmoid,\n",
    "    tf.sigmoid,\n",
    ")"
   ]
  },
  {
   "cell_type": "code",
   "execution_count": 12,
   "metadata": {},
   "outputs": [],
   "source": [
    "with tf.GradientTape() as tape:\n",
    "    free_prop_result = free_prop_model.fit(data)\n",
    "    free_prop_gradient = tape.gradient(free_prop_result, free_prop_model.weights)"
   ]
  },
  {
   "cell_type": "code",
   "execution_count": 13,
   "metadata": {},
   "outputs": [
    {
     "data": {
      "text/plain": [
       "<tf.Tensor: shape=(10, 3), dtype=bool, numpy=\n",
       "array([[ True,  True,  True],\n",
       "       [ True,  True,  True],\n",
       "       [ True,  True,  True],\n",
       "       [ True,  True,  True],\n",
       "       [ True,  True,  True],\n",
       "       [ True,  True,  True],\n",
       "       [ True,  True,  True],\n",
       "       [ True,  True,  True],\n",
       "       [ True,  True,  True],\n",
       "       [ True,  True,  True]])>"
      ]
     },
     "execution_count": 13,
     "metadata": {},
     "output_type": "execute_result"
    }
   ],
   "source": [
    "baseline_result == free_prop_result"
   ]
  },
  {
   "cell_type": "code",
   "execution_count": 14,
   "metadata": {},
   "outputs": [
    {
     "data": {
      "text/plain": [
       "<tf.Tensor: shape=(3, 3), dtype=bool, numpy=\n",
       "array([[ True,  True,  True],\n",
       "       [ True,  True,  True],\n",
       "       [ True,  True,  True]])>"
      ]
     },
     "execution_count": 14,
     "metadata": {},
     "output_type": "execute_result"
    }
   ],
   "source": [
    "baseline_gradient[0] == tf.transpose(free_prop_gradient)[:3, 6:]"
   ]
  },
  {
   "cell_type": "markdown",
   "metadata": {},
   "source": [
    "These corresponding gradients probably the same and the difference below can be explained by rounding error. Values of are displayed below, they clearly should be equal."
   ]
  },
  {
   "cell_type": "code",
   "execution_count": 15,
   "metadata": {},
   "outputs": [
    {
     "data": {
      "text/plain": [
       "<tf.Tensor: shape=(3, 3), dtype=float32, numpy=\n",
       "array([[3.7252903e-09, 3.7252903e-09, 3.7252903e-09],\n",
       "       [3.7252903e-09, 3.7252903e-09, 3.7252903e-09],\n",
       "       [3.7252903e-09, 3.7252903e-09, 3.7252903e-09]], dtype=float32)>"
      ]
     },
     "execution_count": 15,
     "metadata": {},
     "output_type": "execute_result"
    }
   ],
   "source": [
    "baseline_gradient[2] - tf.transpose(free_prop_gradient)[6:, 3:6]"
   ]
  },
  {
   "cell_type": "code",
   "execution_count": 16,
   "metadata": {},
   "outputs": [
    {
     "data": {
      "text/plain": [
       "<tf.Tensor: shape=(3, 3), dtype=float32, numpy=\n",
       "array([[0.0448227, 0.0448227, 0.0448227],\n",
       "       [0.0448227, 0.0448227, 0.0448227],\n",
       "       [0.0448227, 0.0448227, 0.0448227]], dtype=float32)>"
      ]
     },
     "execution_count": 16,
     "metadata": {},
     "output_type": "execute_result"
    }
   ],
   "source": [
    "baseline_gradient[2]"
   ]
  },
  {
   "cell_type": "code",
   "execution_count": 17,
   "metadata": {},
   "outputs": [
    {
     "data": {
      "text/plain": [
       "<tf.Tensor: shape=(3, 3), dtype=float32, numpy=\n",
       "array([[0.0448227, 0.0448227, 0.0448227],\n",
       "       [0.0448227, 0.0448227, 0.0448227],\n",
       "       [0.0448227, 0.0448227, 0.0448227]], dtype=float32)>"
      ]
     },
     "execution_count": 17,
     "metadata": {},
     "output_type": "execute_result"
    }
   ],
   "source": [
    "tf.transpose(free_prop_gradient)[6:, 3:6]"
   ]
  },
  {
   "cell_type": "markdown",
   "metadata": {},
   "source": [
    "# Case 3\n",
    "\n",
    "Neural network with three hidden layers and different activation function in the last layer and 5 output neurons"
   ]
  },
  {
   "cell_type": "code",
   "execution_count": 18,
   "metadata": {},
   "outputs": [],
   "source": [
    "baseline_model = tf.keras.models.Sequential([\n",
    "    tf.keras.layers.Dense(3, activation=tf.sigmoid),\n",
    "    tf.keras.layers.Dense(3, activation=tf.sigmoid),\n",
    "    tf.keras.layers.Dense(3, activation=tf.sigmoid),\n",
    "    tf.keras.layers.Dense(5, activation=tf.tanh),\n",
    "])\n",
    "baseline_model.build(input_shape=data.shape)\n",
    "baseline_model.set_weights([\n",
    "    np.array([[2, 2, 2], [2, 2, 2], [2, 2, 2]], dtype=\"float32\"),\n",
    "    np.array([0, 0, 0], dtype=\"float32\"),\n",
    "    np.array([[2, 2, 2], [2, 2, 2], [2, 2, 2]], dtype=\"float32\"),\n",
    "    np.array([0, 0, 0], dtype=\"float32\"),\n",
    "    np.array([[2, 2, 2], [2, 2, 2], [2, 2, 2]], dtype=\"float32\"),\n",
    "    np.array([0, 0, 0], dtype=\"float32\"),\n",
    "    np.array([[2, 2, 2, 2, 2], [2, 2, 2, 2, 2], [2, 2, 2, 2, 2]], dtype=\"float32\"),\n",
    "    np.array([0, 0, 0, 0, 0], dtype=\"float32\"),\n",
    "])"
   ]
  },
  {
   "cell_type": "code",
   "execution_count": 19,
   "metadata": {},
   "outputs": [],
   "source": [
    "weights = tf.SparseTensor(\n",
    "    indices=[\n",
    "        *[[i, j] for i in range(3) for j in range(8, 11)],\n",
    "        *[[i, j] for i in range(8, 11) for j in range(11, 14)],\n",
    "        *[[i, j] for i in range(11, 14) for j in range(14, 17)],\n",
    "        *[[i, j] for i in range(14, 17) for j in range(3, 8)],\n",
    "    ],\n",
    "    values=tf.Variable([2] * 42, dtype=\"float32\"),\n",
    "    dense_shape=(17, 17),\n",
    ")\n",
    "weights = tf.Variable(tf.transpose(tf.sparse.to_dense(weights)))\n",
    "free_prop_model = FreePropModel(\n",
    "    3,\n",
    "    5,\n",
    "    weights,\n",
    "    4,\n",
    "    tf.identity,\n",
    "    tf.tanh,\n",
    "    tf.sigmoid,\n",
    ")"
   ]
  },
  {
   "cell_type": "code",
   "execution_count": 20,
   "metadata": {},
   "outputs": [],
   "source": [
    "with tf.GradientTape() as tape:\n",
    "    baseline_result = baseline_model(data)\n",
    "    baseline_gradient = tape.gradient(baseline_result, baseline_model.trainable_variables)"
   ]
  },
  {
   "cell_type": "code",
   "execution_count": 21,
   "metadata": {},
   "outputs": [],
   "source": [
    "with tf.GradientTape() as tape:\n",
    "    free_prop_result = free_prop_model.fit(data)\n",
    "    free_prop_gradient = tape.gradient(free_prop_result, free_prop_model.weights)"
   ]
  },
  {
   "cell_type": "code",
   "execution_count": 22,
   "metadata": {},
   "outputs": [
    {
     "data": {
      "text/plain": [
       "<tf.Tensor: shape=(10, 5), dtype=bool, numpy=\n",
       "array([[ True,  True,  True,  True,  True],\n",
       "       [ True,  True,  True,  True,  True],\n",
       "       [ True,  True,  True,  True,  True],\n",
       "       [ True,  True,  True,  True,  True],\n",
       "       [ True,  True,  True,  True,  True],\n",
       "       [ True,  True,  True,  True,  True],\n",
       "       [ True,  True,  True,  True,  True],\n",
       "       [ True,  True,  True,  True,  True],\n",
       "       [ True,  True,  True,  True,  True],\n",
       "       [ True,  True,  True,  True,  True]])>"
      ]
     },
     "execution_count": 22,
     "metadata": {},
     "output_type": "execute_result"
    }
   ],
   "source": [
    "baseline_result == free_prop_result"
   ]
  },
  {
   "cell_type": "code",
   "execution_count": 23,
   "metadata": {},
   "outputs": [
    {
     "data": {
      "text/plain": [
       "<tf.Tensor: shape=(3, 3), dtype=bool, numpy=\n",
       "array([[ True,  True,  True],\n",
       "       [ True,  True,  True],\n",
       "       [ True,  True,  True]])>"
      ]
     },
     "execution_count": 23,
     "metadata": {},
     "output_type": "execute_result"
    }
   ],
   "source": [
    "baseline_gradient[0] == tf.transpose(free_prop_gradient)[:3, 8:11]"
   ]
  },
  {
   "cell_type": "code",
   "execution_count": 24,
   "metadata": {},
   "outputs": [
    {
     "data": {
      "text/plain": [
       "<tf.Tensor: shape=(3, 3), dtype=bool, numpy=\n",
       "array([[ True,  True,  True],\n",
       "       [ True,  True,  True],\n",
       "       [ True,  True,  True]])>"
      ]
     },
     "execution_count": 24,
     "metadata": {},
     "output_type": "execute_result"
    }
   ],
   "source": [
    "baseline_gradient[2] == tf.transpose(free_prop_gradient)[8:11, 11:14]"
   ]
  },
  {
   "cell_type": "code",
   "execution_count": 25,
   "metadata": {},
   "outputs": [
    {
     "data": {
      "text/plain": [
       "<tf.Tensor: shape=(3, 3), dtype=bool, numpy=\n",
       "array([[ True,  True,  True],\n",
       "       [ True,  True,  True],\n",
       "       [ True,  True,  True]])>"
      ]
     },
     "execution_count": 25,
     "metadata": {},
     "output_type": "execute_result"
    }
   ],
   "source": [
    "baseline_gradient[4] == tf.transpose(free_prop_gradient)[11:14, 14:]"
   ]
  },
  {
   "cell_type": "code",
   "execution_count": 26,
   "metadata": {},
   "outputs": [
    {
     "data": {
      "text/plain": [
       "<tf.Tensor: shape=(3, 5), dtype=bool, numpy=\n",
       "array([[ True,  True,  True,  True,  True],\n",
       "       [ True,  True,  True,  True,  True],\n",
       "       [ True,  True,  True,  True,  True]])>"
      ]
     },
     "execution_count": 26,
     "metadata": {},
     "output_type": "execute_result"
    }
   ],
   "source": [
    "baseline_gradient[6] == tf.transpose(free_prop_gradient)[14:, 3:8]"
   ]
  }
 ],
 "metadata": {
  "kernelspec": {
   "display_name": "Python 3",
   "language": "python",
   "name": "python3"
  },
  "language_info": {
   "codemirror_mode": {
    "name": "ipython",
    "version": 3
   },
   "file_extension": ".py",
   "mimetype": "text/x-python",
   "name": "python",
   "nbconvert_exporter": "python",
   "pygments_lexer": "ipython3",
   "version": "3.6.9"
  }
 },
 "nbformat": 4,
 "nbformat_minor": 2
}
