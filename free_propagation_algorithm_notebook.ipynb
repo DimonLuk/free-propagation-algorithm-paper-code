{
 "cells": [
  {
   "cell_type": "code",
   "execution_count": 1,
   "metadata": {},
   "outputs": [],
   "source": [
    "import tensorflow as tf\n",
    "from typing import Callable\n",
    "import numpy as np"
   ]
  },
  {
   "cell_type": "code",
   "execution_count": 2,
   "metadata": {},
   "outputs": [],
   "source": [
    "def pprint_sparse_tensor(st):\n",
    "    s = \"<SparseTensor shape=%s \\n values={\" % (st.dense_shape.numpy().tolist(),)\n",
    "    for (index, value) in zip(st.indices, st.values):\n",
    "        s += f\"\\n  %s: %s\" % (index.numpy().tolist(), value.numpy().tolist())\n",
    "    s += \"}>\"\n",
    "    print(s)"
   ]
  },
  {
   "cell_type": "code",
   "execution_count": 3,
   "metadata": {},
   "outputs": [],
   "source": [
    "def generate_selection_tensor(\n",
    "    shape: tf.TensorShape,\n",
    "    range_start: int,\n",
    "    range_stop: int,\n",
    "    dtype: str = \"float32\"\n",
    ") -> tf.SparseTensor:\n",
    "    \"\"\"\n",
    "    Function to produce (\\mathbf{S}^{(\\alpha)})^{T}\n",
    "    \"\"\"\n",
    "    if range_start == range_stop:\n",
    "        return tf.sparse.transpose(tf.sparse.from_dense(tf.zeros(shape, dtype=dtype)))\n",
    "    \n",
    "    ones_indices = [[i, i] for i in range(range_start, range_stop)]\n",
    "    \n",
    "    return tf.sparse.transpose(tf.SparseTensor(\n",
    "        indices=ones_indices,\n",
    "        values=tf.ones(len(ones_indices), dtype=dtype),\n",
    "        dense_shape=shape,\n",
    "    ))"
   ]
  },
  {
   "cell_type": "code",
   "execution_count": 4,
   "metadata": {},
   "outputs": [],
   "source": [
    "class FreePropModel:\n",
    "    def __init__(\n",
    "        self,\n",
    "        input_shape: int,\n",
    "        output_shape: int,\n",
    "        weights: tf.Variable,       \n",
    "        iterations: int,\n",
    "        input_activation_fn: Callable[[tf.Tensor], tf.Tensor],\n",
    "        output_activation_fn: Callable[[tf.Tensor], tf.Tensor],\n",
    "        hidden_activation_fn: Callable[[tf.Tensor], tf.Tensor],\n",
    "        dtype: str = \"float32\",\n",
    "    ) -> None:\n",
    "        self.input_shape = input_shape\n",
    "        self.output_shape = output_shape\n",
    "        # (\\mathbf{W})^{T}\n",
    "        self.weights = weights\n",
    "        # l\n",
    "        self.iterations = iterations\n",
    "        # a_{d}\n",
    "        self.input_activation_fn = input_activation_fn\n",
    "        # a_{r}\n",
    "        self.output_activation_fn = output_activation_fn\n",
    "        #a_{h}\n",
    "        self.hidden_activation_fn = hidden_activation_fn\n",
    "        self.dtype = dtype\n",
    "        \n",
    "        # \\mathbf{S}^{(d)}\n",
    "        self._input_selection_tensor = generate_selection_tensor(\n",
    "            self.weights.shape,\n",
    "            0,\n",
    "            self.input_shape,\n",
    "            dtype=self.dtype,\n",
    "        )\n",
    "        # \\mathbf{S}^{(r)}\n",
    "        self._output_selection_tensor = generate_selection_tensor(\n",
    "            self.weights.shape,\n",
    "            self.input_shape,\n",
    "            self.input_shape + self.output_shape,\n",
    "            dtype=self.dtype,\n",
    "        )\n",
    "        \n",
    "        # \\mathbf{S}^{(h)}\n",
    "        self._hidden_selection_tensor = generate_selection_tensor(\n",
    "            self.weights.shape,\n",
    "            self.input_shape + self.output_shape,\n",
    "            self.weights.shape[0],\n",
    "            dtype=self.dtype,\n",
    "        )\n",
    "        \n",
    "    def fit(self, x):\n",
    "        # \\mathbf{N}\n",
    "        node_tensor = tf.zeros((x.shape[0], self.weights.shape[0]), dtype=self.dtype)\n",
    "        node_tensor = tf.tensor_scatter_nd_update(\n",
    "            node_tensor,\n",
    "            self._generate_node_tensor_indicies_for_inputs(x.shape[0]),\n",
    "            x,\n",
    "        )\n",
    "        node_tensor = self.input_activation_fn(node_tensor)\n",
    "        node_tensor = tf.transpose(node_tensor)\n",
    "        \n",
    "        for _ in tf.range(self.iterations):\n",
    "            # (\\mathbf{T})^{T}\n",
    "            T = tf.tensordot(self.weights, node_tensor, axes=[[1], [0]])\n",
    "            # (\\mathbf{T}^{(d)})^{T}\n",
    "            T_d = tf.sparse.sparse_dense_matmul(self._input_selection_tensor, self.input_activation_fn(T))\n",
    "            # (\\mathbf{T}^{(r)})^{T}\n",
    "            T_r = tf.sparse.sparse_dense_matmul(self._output_selection_tensor, self.output_activation_fn(T))\n",
    "            # (\\mathbf{T}^{(h)})^{T}\n",
    "            T_h = tf.sparse.sparse_dense_matmul(self._hidden_selection_tensor, self.hidden_activation_fn(T))\n",
    "            \n",
    "            node_tensor = T_d + T_r + T_h\n",
    "        \n",
    "        node_tensor = tf.transpose(node_tensor)\n",
    "        \n",
    "        # return \\mathbf{\\hat{Y}}\n",
    "        return node_tensor[:, self.input_shape:self.input_shape + self.output_shape]\n",
    "        \n",
    "    def _generate_node_tensor_indicies_for_inputs(self, batch_size):\n",
    "        result = []\n",
    "        # only rank 2 inputs are allowed right now, meaning that tensor is in the form (batch_size, data)\n",
    "        for i in range(batch_size):\n",
    "            tmp = []\n",
    "            for j in range(self.input_shape):\n",
    "                tmp.append([i, j])\n",
    "            result.append(tmp)\n",
    "        return result"
   ]
  },
  {
   "cell_type": "markdown",
   "metadata": {},
   "source": [
    "# Data initialization"
   ]
  },
  {
   "cell_type": "code",
   "execution_count": 6,
   "metadata": {},
   "outputs": [],
   "source": [
    "data = tf.constant(\n",
    "    [\n",
    "        [1, 1, 1],\n",
    "        [2, 2, 2],\n",
    "        [3, 3, 3],\n",
    "        [4, 4, 4],\n",
    "        [5, 5, 5],\n",
    "        [1.28, 1.29, 1.3],\n",
    "        [3, 2, 1],\n",
    "        [8.28282, 8.3, 4.1],\n",
    "        [0, 0, 0],\n",
    "        [32, 10000, 12323232]\n",
    "    ],\n",
    "    dtype=\"float32\"\n",
    ")"
   ]
  },
  {
   "cell_type": "markdown",
   "metadata": {},
   "source": [
    "# Neural network with only input and output layers"
   ]
  },
  {
   "cell_type": "code",
   "execution_count": 7,
   "metadata": {},
   "outputs": [],
   "source": [
    "baseline_model = tf.keras.models.Sequential([\n",
    "    tf.keras.layers.Dense(3, activation=tf.identity),\n",
    "])\n",
    "baseline_model.build(input_shape=data.shape)\n",
    "baseline_model.set_weights([\n",
    "    np.array([[2, 2, 2], [2, 2, 2], [2, 2, 2]], dtype=\"float32\"),\n",
    "    np.array([0, 0, 0], dtype=\"float32\"),\n",
    "])"
   ]
  },
  {
   "cell_type": "code",
   "execution_count": 8,
   "metadata": {},
   "outputs": [],
   "source": [
    "with tf.GradientTape() as tape:\n",
    "    baseline_result = baseline_model(data)\n",
    "    baseline_gradient = tape.gradient(baseline_result, baseline_model.trainable_variables)"
   ]
  },
  {
   "cell_type": "code",
   "execution_count": 9,
   "metadata": {},
   "outputs": [],
   "source": [
    "weights = tf.SparseTensor(\n",
    "    indices=[\n",
    "        *[[i, j] for i in range(0, 3) for j in range(3, 6)],\n",
    "    ],\n",
    "    values=tf.constant([2] * 9, dtype=\"float32\"),\n",
    "    dense_shape=(6, 6),\n",
    ")\n",
    "weights = tf.Variable(tf.transpose(tf.sparse.to_dense(weights)))\n",
    "free_prop_model = FreePropModel(\n",
    "    3,\n",
    "    3,\n",
    "    weights,\n",
    "    1,\n",
    "    tf.identity,\n",
    "    tf.identity,\n",
    "    tf.identity,\n",
    ")"
   ]
  },
  {
   "cell_type": "code",
   "execution_count": 10,
   "metadata": {},
   "outputs": [],
   "source": [
    "with tf.GradientTape() as tape:\n",
    "    free_prop_result = free_prop_model.fit(data)\n",
    "    free_prop_gradient = tape.gradient(free_prop_result, free_prop_model.weights)"
   ]
  },
  {
   "cell_type": "code",
   "execution_count": 11,
   "metadata": {},
   "outputs": [
    {
     "data": {
      "text/plain": [
       "<tf.Tensor: shape=(10, 3), dtype=bool, numpy=\n",
       "array([[ True,  True,  True],\n",
       "       [ True,  True,  True],\n",
       "       [ True,  True,  True],\n",
       "       [ True,  True,  True],\n",
       "       [ True,  True,  True],\n",
       "       [ True,  True,  True],\n",
       "       [ True,  True,  True],\n",
       "       [ True,  True,  True],\n",
       "       [ True,  True,  True],\n",
       "       [ True,  True,  True]])>"
      ]
     },
     "execution_count": 11,
     "metadata": {},
     "output_type": "execute_result"
    }
   ],
   "source": [
    "baseline_result == free_prop_result"
   ]
  },
  {
   "cell_type": "code",
   "execution_count": 12,
   "metadata": {},
   "outputs": [
    {
     "data": {
      "text/plain": [
       "<tf.Tensor: shape=(3, 3), dtype=bool, numpy=\n",
       "array([[ True,  True,  True],\n",
       "       [ True,  True,  True],\n",
       "       [ True,  True,  True]])>"
      ]
     },
     "execution_count": 12,
     "metadata": {},
     "output_type": "execute_result"
    }
   ],
   "source": [
    "baseline_gradient[0] == tf.transpose(free_prop_gradient)[:3, 3:]"
   ]
  },
  {
   "cell_type": "markdown",
   "metadata": {},
   "source": [
    "# Neural network with one hidden layer and sigmoid activation functions"
   ]
  },
  {
   "cell_type": "code",
   "execution_count": 124,
   "metadata": {},
   "outputs": [],
   "source": [
    "baseline_model = tf.keras.models.Sequential([\n",
    "    tf.keras.layers.Dense(3, activation=tf.sigmoid),\n",
    "    tf.keras.layers.Dense(3, activation=tf.sigmoid),\n",
    "])\n",
    "baseline_model.build(input_shape=data.shape)\n",
    "baseline_model.set_weights([\n",
    "    np.array([[2, 2, 2], [2, 2, 2], [2, 2, 2]], dtype=\"float32\"),\n",
    "    np.array([0, 0, 0], dtype=\"float32\"),\n",
    "    np.array([[2, 2, 2], [2, 2, 2], [2, 2, 2]], dtype=\"float32\"),\n",
    "    np.array([0, 0, 0], dtype=\"float32\"),\n",
    "])"
   ]
  },
  {
   "cell_type": "code",
   "execution_count": 125,
   "metadata": {},
   "outputs": [],
   "source": [
    "with tf.GradientTape() as tape:\n",
    "    baseline_result = baseline_model(data)\n",
    "    baseline_gradient = tape.gradient(baseline_result, baseline_model.trainable_variables)"
   ]
  },
  {
   "cell_type": "code",
   "execution_count": 126,
   "metadata": {},
   "outputs": [],
   "source": [
    "weights = tf.SparseTensor(\n",
    "    indices=[\n",
    "        *[[i, j] for i in range(3) for j in range(6, 9)],\n",
    "        *[[i, j] for i in range(6, 9) for j in range(3,6)]\n",
    "    ],\n",
    "    values=tf.Variable([2] * 18, dtype=\"float32\"),\n",
    "    dense_shape=(9, 9),\n",
    ")\n",
    "weights = tf.Variable(tf.transpose(tf.sparse.to_dense(weights)))\n",
    "free_prop_model = FreePropModel(\n",
    "    3,\n",
    "    3,\n",
    "    weights,\n",
    "    2,\n",
    "    tf.identity,\n",
    "    tf.sigmoid,\n",
    "    tf.sigmoid,\n",
    ")"
   ]
  },
  {
   "cell_type": "code",
   "execution_count": 127,
   "metadata": {},
   "outputs": [],
   "source": [
    "with tf.GradientTape() as tape:\n",
    "    free_prop_result = free_prop_model.fit(data)\n",
    "    free_prop_gradient = tape.gradient(free_prop_result, free_prop_model.weights)"
   ]
  },
  {
   "cell_type": "code",
   "execution_count": 128,
   "metadata": {},
   "outputs": [
    {
     "data": {
      "text/plain": [
       "<tf.Tensor: shape=(10, 3), dtype=bool, numpy=\n",
       "array([[ True,  True,  True],\n",
       "       [ True,  True,  True],\n",
       "       [ True,  True,  True],\n",
       "       [ True,  True,  True],\n",
       "       [ True,  True,  True],\n",
       "       [ True,  True,  True],\n",
       "       [ True,  True,  True],\n",
       "       [ True,  True,  True],\n",
       "       [ True,  True,  True],\n",
       "       [ True,  True,  True]])>"
      ]
     },
     "execution_count": 128,
     "metadata": {},
     "output_type": "execute_result"
    }
   ],
   "source": [
    "baseline_result == free_prop_result"
   ]
  },
  {
   "cell_type": "code",
   "execution_count": 129,
   "metadata": {},
   "outputs": [
    {
     "data": {
      "text/plain": [
       "<tf.Tensor: shape=(3, 3), dtype=bool, numpy=\n",
       "array([[ True,  True,  True],\n",
       "       [ True,  True,  True],\n",
       "       [ True,  True,  True]])>"
      ]
     },
     "execution_count": 129,
     "metadata": {},
     "output_type": "execute_result"
    }
   ],
   "source": [
    "baseline_gradient[0] == tf.transpose(free_prop_gradient)[:3, 6:]"
   ]
  },
  {
   "cell_type": "code",
   "execution_count": 133,
   "metadata": {},
   "outputs": [
    {
     "data": {
      "text/plain": [
       "<tf.Tensor: shape=(3, 3), dtype=float32, numpy=\n",
       "array([[3.7252903e-09, 3.7252903e-09, 3.7252903e-09],\n",
       "       [3.7252903e-09, 3.7252903e-09, 3.7252903e-09],\n",
       "       [3.7252903e-09, 3.7252903e-09, 3.7252903e-09]], dtype=float32)>"
      ]
     },
     "execution_count": 133,
     "metadata": {},
     "output_type": "execute_result"
    }
   ],
   "source": [
    "baseline_gradient[2] - tf.transpose(free_prop_gradient)[6:, 3:6]"
   ]
  },
  {
   "cell_type": "code",
   "execution_count": 134,
   "metadata": {},
   "outputs": [
    {
     "data": {
      "text/plain": [
       "<tf.Tensor: shape=(3, 3), dtype=float32, numpy=\n",
       "array([[0.0448227, 0.0448227, 0.0448227],\n",
       "       [0.0448227, 0.0448227, 0.0448227],\n",
       "       [0.0448227, 0.0448227, 0.0448227]], dtype=float32)>"
      ]
     },
     "execution_count": 134,
     "metadata": {},
     "output_type": "execute_result"
    }
   ],
   "source": [
    "baseline_gradient[2]"
   ]
  },
  {
   "cell_type": "code",
   "execution_count": 135,
   "metadata": {},
   "outputs": [
    {
     "data": {
      "text/plain": [
       "<tf.Tensor: shape=(3, 3), dtype=float32, numpy=\n",
       "array([[0.0448227, 0.0448227, 0.0448227],\n",
       "       [0.0448227, 0.0448227, 0.0448227],\n",
       "       [0.0448227, 0.0448227, 0.0448227]], dtype=float32)>"
      ]
     },
     "execution_count": 135,
     "metadata": {},
     "output_type": "execute_result"
    }
   ],
   "source": [
    "tf.transpose(free_prop_gradient)[6:, 3:6]"
   ]
  },
  {
   "cell_type": "markdown",
   "metadata": {},
   "source": [
    "# Complex case\n",
    "\n",
    "Neural network with three hidden layers and different activation function in the last layer and 5 output neurons"
   ]
  },
  {
   "cell_type": "code",
   "execution_count": 64,
   "metadata": {},
   "outputs": [],
   "source": [
    "baseline_model = tf.keras.models.Sequential([\n",
    "    tf.keras.layers.Dense(3, activation=tf.sigmoid),\n",
    "    tf.keras.layers.Dense(3, activation=tf.sigmoid),\n",
    "    tf.keras.layers.Dense(3, activation=tf.sigmoid),\n",
    "    tf.keras.layers.Dense(5, activation=tf.tanh),\n",
    "])\n",
    "baseline_model.build(input_shape=data.shape)\n",
    "baseline_model.set_weights([\n",
    "    np.array([[2, 2, 2], [2, 2, 2], [2, 2, 2]], dtype=\"float32\"),\n",
    "    np.array([0, 0, 0], dtype=\"float32\"),\n",
    "    np.array([[2, 2, 2], [2, 2, 2], [2, 2, 2]], dtype=\"float32\"),\n",
    "    np.array([0, 0, 0], dtype=\"float32\"),\n",
    "    np.array([[2, 2, 2], [2, 2, 2], [2, 2, 2]], dtype=\"float32\"),\n",
    "    np.array([0, 0, 0], dtype=\"float32\"),\n",
    "    np.array([[2, 2, 2, 2, 2], [2, 2, 2, 2, 2], [2, 2, 2, 2, 2]], dtype=\"float32\"),\n",
    "    np.array([0, 0, 0, 0, 0], dtype=\"float32\"),\n",
    "])"
   ]
  },
  {
   "cell_type": "code",
   "execution_count": 65,
   "metadata": {},
   "outputs": [],
   "source": [
    "weights = tf.SparseTensor(\n",
    "    indices=[\n",
    "        *[[i, j] for i in range(3) for j in range(8, 11)],\n",
    "        *[[i, j] for i in range(8, 11) for j in range(11, 14)],\n",
    "        *[[i, j] for i in range(11, 14) for j in range(14, 17)],\n",
    "        *[[i, j] for i in range(14, 17) for j in range(3, 8)],\n",
    "    ],\n",
    "    values=tf.Variable([2] * 42, dtype=\"float32\"),\n",
    "    dense_shape=(17, 17),\n",
    ")\n",
    "weights = tf.Variable(tf.transpose(tf.sparse.to_dense(weights)))\n",
    "free_prop_model = FreePropModel(\n",
    "    3,\n",
    "    5,\n",
    "    weights,\n",
    "    4,\n",
    "    tf.identity,\n",
    "    tf.tanh,\n",
    "    tf.sigmoid,\n",
    ")"
   ]
  },
  {
   "cell_type": "code",
   "execution_count": 66,
   "metadata": {},
   "outputs": [],
   "source": [
    "with tf.GradientTape() as tape:\n",
    "    baseline_result = baseline_model(data)\n",
    "    baseline_gradient = tape.gradient(baseline_result, baseline_model.trainable_variables)"
   ]
  },
  {
   "cell_type": "code",
   "execution_count": 67,
   "metadata": {},
   "outputs": [],
   "source": [
    "with tf.GradientTape() as tape:\n",
    "    free_prop_result = free_prop_model.fit(data)\n",
    "    free_prop_gradient = tape.gradient(free_prop_result, free_prop_model.weights)"
   ]
  },
  {
   "cell_type": "code",
   "execution_count": 68,
   "metadata": {},
   "outputs": [
    {
     "data": {
      "text/plain": [
       "<tf.Tensor: shape=(10, 5), dtype=bool, numpy=\n",
       "array([[ True,  True,  True,  True,  True],\n",
       "       [ True,  True,  True,  True,  True],\n",
       "       [ True,  True,  True,  True,  True],\n",
       "       [ True,  True,  True,  True,  True],\n",
       "       [ True,  True,  True,  True,  True],\n",
       "       [ True,  True,  True,  True,  True],\n",
       "       [ True,  True,  True,  True,  True],\n",
       "       [ True,  True,  True,  True,  True],\n",
       "       [ True,  True,  True,  True,  True],\n",
       "       [ True,  True,  True,  True,  True]])>"
      ]
     },
     "execution_count": 68,
     "metadata": {},
     "output_type": "execute_result"
    }
   ],
   "source": [
    "baseline_result == free_prop_result"
   ]
  },
  {
   "cell_type": "code",
   "execution_count": 81,
   "metadata": {},
   "outputs": [
    {
     "data": {
      "text/plain": [
       "<tf.Tensor: shape=(3, 3), dtype=bool, numpy=\n",
       "array([[ True,  True,  True],\n",
       "       [ True,  True,  True],\n",
       "       [ True,  True,  True]])>"
      ]
     },
     "execution_count": 81,
     "metadata": {},
     "output_type": "execute_result"
    }
   ],
   "source": [
    "baseline_gradient[0] == tf.transpose(free_prop_gradient)[:3, 8:11]"
   ]
  },
  {
   "cell_type": "code",
   "execution_count": 95,
   "metadata": {},
   "outputs": [
    {
     "data": {
      "text/plain": [
       "<tf.Tensor: shape=(3, 3), dtype=bool, numpy=\n",
       "array([[ True,  True,  True],\n",
       "       [ True,  True,  True],\n",
       "       [ True,  True,  True]])>"
      ]
     },
     "execution_count": 95,
     "metadata": {},
     "output_type": "execute_result"
    }
   ],
   "source": [
    "baseline_gradient[2] == tf.transpose(free_prop_gradient)[8:11, 11:14]"
   ]
  },
  {
   "cell_type": "code",
   "execution_count": 106,
   "metadata": {},
   "outputs": [
    {
     "data": {
      "text/plain": [
       "<tf.Tensor: shape=(3, 3), dtype=bool, numpy=\n",
       "array([[ True,  True,  True],\n",
       "       [ True,  True,  True],\n",
       "       [ True,  True,  True]])>"
      ]
     },
     "execution_count": 106,
     "metadata": {},
     "output_type": "execute_result"
    }
   ],
   "source": [
    "baseline_gradient[4] == tf.transpose(free_prop_gradient)[11:14, 14:]"
   ]
  },
  {
   "cell_type": "code",
   "execution_count": 113,
   "metadata": {},
   "outputs": [
    {
     "data": {
      "text/plain": [
       "<tf.Tensor: shape=(3, 5), dtype=bool, numpy=\n",
       "array([[ True,  True,  True,  True,  True],\n",
       "       [ True,  True,  True,  True,  True],\n",
       "       [ True,  True,  True,  True,  True]])>"
      ]
     },
     "execution_count": 113,
     "metadata": {},
     "output_type": "execute_result"
    }
   ],
   "source": [
    "baseline_gradient[6] == tf.transpose(free_prop_gradient)[14:, 3:8]"
   ]
  }
 ],
 "metadata": {
  "kernelspec": {
   "display_name": "Python 3",
   "language": "python",
   "name": "python3"
  },
  "language_info": {
   "codemirror_mode": {
    "name": "ipython",
    "version": 3
   },
   "file_extension": ".py",
   "mimetype": "text/x-python",
   "name": "python",
   "nbconvert_exporter": "python",
   "pygments_lexer": "ipython3",
   "version": "3.6.9"
  }
 },
 "nbformat": 4,
 "nbformat_minor": 2
}
